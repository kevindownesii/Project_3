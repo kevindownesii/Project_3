{
 "cells": [
  {
   "cell_type": "code",
   "execution_count": 60,
   "metadata": {},
   "outputs": [
    {
     "name": "stdout",
     "output_type": "stream",
     "text": [
      "579\n",
      "1158\n",
      "1737\n"
     ]
    }
   ],
   "source": [
    "from openpyxl import load_workbook\n",
    "import csv\n",
    "\n",
    "def outputCSV(filename, fields, data):\n",
    "    with open(filename, 'w', newline='') as csvfile:\n",
    "        # creating a csv dict writer object\n",
    "        writer = csv.DictWriter(csvfile, fieldnames=fields) \n",
    "        # writing headers (field names)\n",
    "        writer.writeheader() \n",
    "        # writing data rows    \n",
    "        writer.writerows(data)\n",
    "\n",
    "def readSpreadSheet(data_year, filename, fields, countyCrimeData):\n",
    "    workbook = load_workbook(filename=filename)    \n",
    "    for sheetName in workbook.sheetnames:\n",
    "        sh = workbook[sheetName]\n",
    "        # skip the conver sheet\n",
    "        if sheetName != 'DocumentMap':            \n",
    "            agency = \"\"\n",
    "            murder_count = 0\n",
    "            rape_count = 0\n",
    "            robbery_count = 0\n",
    "            assault_count = 0\n",
    "            burglary_count = 0\n",
    "            larceny_count = 0\n",
    "            auto_theft_count = 0\n",
    "\n",
    "            for row in sh.rows:                       \n",
    "                if len(row) > 3: \n",
    "                    county = sheetName\n",
    "                    if row[0].value != None and row[0].value.startswith(\"NJ\"):\n",
    "                        agency = row[1].value               \n",
    "                    if row[1].value != None and row[1].value == 'Number of Offenses':                                        \n",
    "                        murder_count = row[3].value\n",
    "                        rape_count = row[4].value\n",
    "                        robbery_count = row[5].value\n",
    "                        assault_count = row[6].value\n",
    "                        burglary_count = row[7].value\n",
    "                        larceny_count = row[8].value\n",
    "                        auto_theft_count = row[9].value\n",
    "                        countyCrimeData.append({ \n",
    "                            fields[0]: county,\n",
    "                            fields[1]: agency,\n",
    "                            fields[2]: murder_count,\n",
    "                            fields[3]: rape_count,\n",
    "                            fields[4]: robbery_count,\n",
    "                            fields[5]: assault_count,\n",
    "                            fields[6]: burglary_count,\n",
    "                            fields[7]: larceny_count,\n",
    "                            fields[8]: auto_theft_count,\n",
    "                            fields[9]: data_year\n",
    "                        })           \n",
    "                    if row[1].value != None and row[1].value.startswith(\"County Totals\"):\n",
    "                        break\n",
    "                        \n",
    "    # name of csv file\n",
    "    filename = \"..\\\\Data Files\\\\Crime_Data.csv\"\n",
    "    print(len(countyCrimeData))\n",
    "    # writing to csv file\n",
    "    with open(filename, 'w', newline='') as csvfile:\n",
    "        # creating a csv dict writer object\n",
    "        writer = csv.DictWriter(csvfile, fieldnames=fields) \n",
    "        # writing headers (field names)\n",
    "        writer.writeheader() \n",
    "        # writing data rows    \n",
    "        writer.writerows(countyCrimeData)\n",
    "\n",
    "crimeDataRows = []\n",
    "# field names\n",
    "fields = ['county', 'agency', 'murder_count', 'rape_count', 'robbery_count', 'assault_count', 'burglary_count', 'larceny_count', 'auto_theft_count', 'year']    \n",
    "readSpreadSheet(2020, \"..\\\\Data Files\\\\2020_Uniform_Crime_Report.xlsx\", fields, crimeDataRows)\n",
    "readSpreadSheet(2019, \"..\\\\Data Files\\\\2019_Uniform_Crime_Report.xlsx\", fields, crimeDataRows)\n",
    "readSpreadSheet(2018, \"..\\\\Data Files\\\\2018_Uniform_Crime_Report.xlsx\", fields, crimeDataRows)\n",
    "outputCSV(\"..\\\\Data Files\\\\Crime_Data.csv\", fields, crimeDataRows)"
   ]
  }
 ],
 "metadata": {
  "kernelspec": {
   "display_name": "Python 3",
   "language": "python",
   "name": "python3"
  },
  "language_info": {
   "codemirror_mode": {
    "name": "ipython",
    "version": 3
   },
   "file_extension": ".py",
   "mimetype": "text/x-python",
   "name": "python",
   "nbconvert_exporter": "python",
   "pygments_lexer": "ipython3",
   "version": "3.11.5"
  }
 },
 "nbformat": 4,
 "nbformat_minor": 2
}
