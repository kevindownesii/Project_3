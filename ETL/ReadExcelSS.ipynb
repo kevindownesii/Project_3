{
 "cells": [
  {
   "cell_type": "code",
   "execution_count": 49,
   "metadata": {},
   "outputs": [
    {
     "name": "stdout",
     "output_type": "stream",
     "text": [
      "21\n"
     ]
    }
   ],
   "source": [
    "from openpyxl import load_workbook\n",
    "import csv\n",
    "workbook = load_workbook(filename=\"..\\\\Data Files\\\\2020_Uniform_Crime_Report.xlsx\")\n",
    "# print(workbook.sheetnames)\n",
    "# field names\n",
    "fields = ['county', 'murder_count', 'rape_count', 'robbery_count', 'assault_count', 'burglary_count', 'larceny_count', 'auto_theft_count']\n",
    "countyCrimeData = []\n",
    "for sheetName in workbook.sheetnames:\n",
    "    sh = workbook[sheetName]\n",
    "    if sheetName != 'DocumentMap':    \n",
    "        county = sheetName\n",
    "        murder_count = 0\n",
    "        rape_count = 0\n",
    "        robbery_count = 0\n",
    "        assault_count = 0\n",
    "        burglary_count = 0\n",
    "        larceny_count = 0\n",
    "        auto_theft_count = 0\n",
    "        for row in sh.rows:                                \n",
    "            if len(row) > 3: \n",
    "                if row[1].value == 'Number of Offenses':                    \n",
    "                    murder_count = row[3].value\n",
    "                    rape_count = row[4].value\n",
    "                    robbery_count = row[5].value\n",
    "                    assault_count = row[6].value\n",
    "                    burglary_count = row[7].value\n",
    "                    larceny_count = row[8].value\n",
    "                    auto_theft_count = row[9].value\n",
    "        countyCrimeData.append({ \n",
    "                    fields[0]: county,\n",
    "                    fields[1]: murder_count,\n",
    "                    fields[2]: rape_count,\n",
    "                    fields[3]: robbery_count,\n",
    "                    fields[4]: assault_count,\n",
    "                    fields[5]: burglary_count,\n",
    "                    fields[6]: larceny_count,\n",
    "                    fields[7]: auto_theft_count\n",
    "                    })                     \n",
    "# name of csv file\n",
    "filename = \"crime_2020.csv\"\n",
    "print(len(countyCrimeData))\n",
    "# writing to csv file\n",
    "with open(filename, 'w', newline='') as csvfile:\n",
    "    # creating a csv dict writer object\n",
    "    writer = csv.DictWriter(csvfile, fieldnames=fields) \n",
    "    # writing headers (field names)\n",
    "    writer.writeheader() \n",
    "    # writing data rows    \n",
    "    writer.writerows(countyCrimeData)\n"
   ]
  }
 ],
 "metadata": {
  "kernelspec": {
   "display_name": "Python 3",
   "language": "python",
   "name": "python3"
  },
  "language_info": {
   "codemirror_mode": {
    "name": "ipython",
    "version": 3
   },
   "file_extension": ".py",
   "mimetype": "text/x-python",
   "name": "python",
   "nbconvert_exporter": "python",
   "pygments_lexer": "ipython3",
   "version": "3.11.5"
  }
 },
 "nbformat": 4,
 "nbformat_minor": 2
}
